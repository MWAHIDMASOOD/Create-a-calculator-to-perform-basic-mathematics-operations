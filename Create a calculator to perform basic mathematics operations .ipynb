{
 "cells": [
  {
   "cell_type": "code",
   "execution_count": 1,
   "id": "813bfd31",
   "metadata": {},
   "outputs": [],
   "source": [
    "import numpy as np"
   ]
  },
  {
   "cell_type": "code",
   "execution_count": 2,
   "id": "34571697",
   "metadata": {},
   "outputs": [],
   "source": [
    "# This function will adds two numbers\n",
    "def ADD(x, y):\n",
    "    return x + y"
   ]
  },
  {
   "cell_type": "code",
   "execution_count": 3,
   "id": "f31f8ab0",
   "metadata": {},
   "outputs": [],
   "source": [
    "# This function will subtract two numbers\n",
    "def SUBTRACT(x, y):\n",
    "    return x - y"
   ]
  },
  {
   "cell_type": "code",
   "execution_count": 4,
   "id": "e80195b1",
   "metadata": {},
   "outputs": [],
   "source": [
    "# This function will multiply two numbers\n",
    "def Multiply(x, y):\n",
    "    return x * y"
   ]
  },
  {
   "cell_type": "code",
   "execution_count": 5,
   "id": "4c88fabb",
   "metadata": {},
   "outputs": [],
   "source": [
    "# This function will divides two numbers\n",
    "def DIVIDE(x, y):\n",
    "    return x / y"
   ]
  },
  {
   "cell_type": "code",
   "execution_count": 6,
   "id": "f226562c",
   "metadata": {},
   "outputs": [],
   "source": [
    "#this function will take sqaure of the number\n",
    "def SQUARE(x):\n",
    "    return x**2"
   ]
  },
  {
   "cell_type": "code",
   "execution_count": 7,
   "id": "5a9d0306",
   "metadata": {},
   "outputs": [],
   "source": [
    "#this function will take sqaure root of the number\n",
    "def SQROOT(x):\n",
    "    return sqrt(x)"
   ]
  },
  {
   "cell_type": "code",
   "execution_count": 11,
   "id": "b52b78f0",
   "metadata": {},
   "outputs": [
    {
     "name": "stdout",
     "output_type": "stream",
     "text": [
      "Select the required operation.\n",
      "1.Add\n",
      "2.Subtract\n",
      "3.Multiply\n",
      "4.Divide\n",
      "5.Square\n",
      "6.SqaureRoot\n",
      "Enter the operation of your choice(1/2/3/4/5/6): 6\n",
      "Enter the number: 5\n",
      "5.0 = 2.23606797749979\n",
      "Let's do next calculation? (yes/no): no\n"
     ]
    }
   ],
   "source": [
    "print(\"Select the required operation.\")\n",
    "print(\"1.Add\")\n",
    "print(\"2.Subtract\")\n",
    "print(\"3.Multiply\")\n",
    "print(\"4.Divide\")\n",
    "print(\"5.Square\")\n",
    "print(\"6.SqaureRoot\")\n",
    "\n",
    "while True:\n",
    "    # taking input from the user\n",
    "    choice = input(\"Enter the operation of your choice(1/2/3/4/5/6): \")\n",
    "\n",
    "    # check if choice is one of the four options\n",
    "    if choice in ('1', '2', '3', '4'):\n",
    "        num1 = float(input(\"Enter the first number: \"))\n",
    "        num2 = float(input(\"Enter the second number: \"))\n",
    "\n",
    "        if choice == '1':\n",
    "            print(num1, \"+\", num2, \"=\",np.add(num1, num2))\n",
    "\n",
    "        elif choice == '2':\n",
    "            print(num1, \"-\", num2, \"=\", np.subtract(num1, num2))\n",
    "\n",
    "        elif choice == '3':\n",
    "            print(num1, \"*\", num2, \"=\", np.multiply(num1, num2))\n",
    "\n",
    "        elif choice == '4':\n",
    "            print(num1, \"/\", num2, \"=\", np.divide(num1, num2))\n",
    "    if choice in ('5','6'):\n",
    "        num = float(input('Enter the number: '))\n",
    "      \n",
    "        if choice == '5':\n",
    "            print(num, \"=\", (num**2))\n",
    "        \n",
    "        elif choice == '6':\n",
    "            print(num,\"=\", np.sqrt(num))\n",
    "        \n",
    "        # check if user wants another calculation\n",
    "        # break the while loop if answer is no\n",
    "        next_calculation = input(\"Let's do next calculation? (yes/no): \")\n",
    "        if next_calculation == \"no\":\n",
    "          break\n",
    "    \n",
    "    else:\n",
    "        print('Invalid Input')"
   ]
  },
  {
   "cell_type": "code",
   "execution_count": null,
   "id": "202b75e2",
   "metadata": {},
   "outputs": [],
   "source": []
  }
 ],
 "metadata": {
  "kernelspec": {
   "display_name": "Python 3 (ipykernel)",
   "language": "python",
   "name": "python3"
  },
  "language_info": {
   "codemirror_mode": {
    "name": "ipython",
    "version": 3
   },
   "file_extension": ".py",
   "mimetype": "text/x-python",
   "name": "python",
   "nbconvert_exporter": "python",
   "pygments_lexer": "ipython3",
   "version": "3.9.12"
  }
 },
 "nbformat": 4,
 "nbformat_minor": 5
}
